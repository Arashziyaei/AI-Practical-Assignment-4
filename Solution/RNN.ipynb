{
 "cells": [
  {
   "cell_type": "markdown",
   "metadata": {},
   "source": [
    "<br>\n",
    "<font>\n",
    "<div dir=ltr align=center>\n",
    "<img src=\"https://cdn.freebiesupply.com/logos/large/2x/sharif-logo-png-transparent.png\" width=150 height=150> <br>\n",
    "<font color=0F5298 size=7>\n",
    "Artificial Intelligence <br>\n",
    "<font color=2565AE size=5>\n",
    "Computer Engineering Department <br>\n",
    "FALL 2024<br>\n",
    "<font color=3C99D size=5>\n",
    "Practical Assignment 4 - Neural Networks <br>\n",
    "<font color=696880 size=4>\n",
    "Arash Ziyaei Razban\n",
    "\n",
    "____________"
   ]
  },
  {
   "cell_type": "markdown",
   "metadata": {},
   "source": [
    "# Personal Data\n",
    "Please fill in your details below to help us keep track of your submission."
   ]
  },
  {
   "cell_type": "markdown",
   "metadata": {},
   "source": [
    "Student Name: `here`\n",
    "\n",
    "Student ID: `here`"
   ]
  },
  {
   "cell_type": "markdown",
   "metadata": {},
   "source": [
    "# Recurrent Neural Network (RNN)\n",
    "\n",
    "Nowadays machine learning algorithms and models are used to solve too many types of problems. One of the most important problems is sequence modeling. Sequence modeling is the ability of an algorithm to model, interpret, make predictions about, or generate sequence data like audio, text, etc.\n",
    "\n",
    "One of the most used algorithms to solve sequence modeling problems is the Recurrent Neural Network which is a specialized form of the classical Artificial Neural Network (Multi-Layer Perceptron). Below is a picture of this network architecture:\n",
    "\n",
    "<img src=\"RNN.jpg\" width=\"400\" height=\"200\">\n",
    "\n",
    "In sequences there is a common feature, that each value has some dependency on its previous members. A simple example is arithmetic sequence: $a_i = i * d + a_0, 0 \\leq i$, where $a_n$ is dependent on $a_{n-1}$. So based on this nature of the sequences, there is a loop inside the RNN cell. This helps the RNN cell to remember some information about the previous activation values. \n",
    "\n",
    "In general, RNN is used to model sequences because of the following advantages:\n",
    "+ handles variable-length dependencies.\n",
    "+ Tracks dependencies.\n",
    "+ Maintains information about the order.\n",
    "+ Shares parameters across the sequence.\n"
   ]
  },
  {
   "cell_type": "markdown",
   "metadata": {},
   "source": [
    "# What you are going to do in this notebook\n",
    "\n",
    "+ `Step1.` You have to design a simple neural network that has only 4 neurons, inspired by the RNNs architecture, and use it to predict the next number of an arithmetic sequence.\n",
    "\n",
    "+ `Step2.` You have to increase the number of the neurons to 8. Then you have create a complext dataset of arithmatic sequences, that in each with a number of `d` called $1 \\leq n$.\n",
    "\n",
    "+ `Step3.` In the previous sections, you will find out why just using the basic architecture of RNNs does not work for complex data. So, for this step, you have to implement a Gated Recurrent Unit (GRU) from scrach to train and test it over the MNIST dataset and compare it with PyTorch GRU."
   ]
  },
  {
   "cell_type": "markdown",
   "metadata": {
    "vscode": {
     "languageId": "plaintext"
    }
   },
   "source": [
    "# START TO LEARN ABOUT RNNs (30 points)\n",
    "Step 1. First, we start with simple data, like arithmetic sequence: $a_i = i * d + a_0, 0 \\leq i$.\n",
    "\n",
    "You have to design a simple neural network (only 4 neurons) inspired from the RNNs to predict the next number in the sequence.\n",
    "\n",
    "`Note`: First, try to solve this problem theoretically (find the final values for your network's weights) and then implement it.\n",
    "\n",
    "`your answer`\n"
   ]
  },
  {
   "cell_type": "code",
   "execution_count": 180,
   "metadata": {},
   "outputs": [],
   "source": [
    "import torch\n",
    "import torch.nn as nn\n",
    "import torch.optim as optim\n",
    "from torch.utils.data import DataLoader, Dataset\n",
    "import torch.nn.functional as F\n",
    "import numpy as np\n",
    "from scipy.stats import binom\n",
    "import matplotlib.pyplot as plt\n",
    "import torchvision.transforms as transforms\n",
    "from torchvision.datasets import MNIST"
   ]
  },
  {
   "cell_type": "code",
   "execution_count": null,
   "metadata": {},
   "outputs": [],
   "source": [
    "# TODO\n",
    "def CustomDateset(max_length = 20, size = 10000): \n",
    "    \"\"\"\n",
    "        Generate your dataset with following details:\n",
    "        -100 <= a_i <= 100\n",
    "        -20 <= d <= 20\n",
    "        len(sequence) <= max_length\n",
    "\n",
    "        Parameters:\n",
    "            - max_length = 20\n",
    "            - size = 10000\n",
    "\n",
    "        Returns:\n",
    "            - dataset = [(length, sequence, next_number in the sequence) for each sequence]\n",
    "    \"\"\"\n",
    "    dataset = []\n",
    "    for _ in range(size):\n",
    "        a0 = (np.random.rand() - 0.5) * 200\n",
    "        d = (np.random.rand() - 0.5) * 40\n",
    "        length = np.random.randint(2, max_length + 1)\n",
    "        sequence = np.zeros(length)\n",
    "\n",
    "        for i in range(length):\n",
    "            sequence[i] = a0 + i * d\n",
    "\n",
    "        next_number = sequence[-1] + d\n",
    "        dataset.append((length, sequence, next_number))\n",
    "\n",
    "    return dataset"
   ]
  },
  {
   "cell_type": "markdown",
   "metadata": {},
   "source": [
    "# Now create the model:\n",
    "Based on the this task design your model. \n",
    "+ Note that, your model should inspire from the behavior of RNNs.\n",
    "+ Solve this problem theoretically. Then you will find out you only need 4 neurons."
   ]
  },
  {
   "cell_type": "code",
   "execution_count": null,
   "metadata": {},
   "outputs": [],
   "source": [
    "class Model(nn.Module):\n",
    "    \"\"\"\n",
    "        Design your model.\n",
    "    \"\"\"\n",
    "    # TODO\n",
    "    def __init__(self):\n",
    "        super().__init__()\n",
    "        self.fc1 = nn.Linear(2, 2, bias=False)\n",
    "\n",
    "    def forward(self, x):\n",
    "        x = self.fc1(x)\n",
    "        return x"
   ]
  },
  {
   "cell_type": "markdown",
   "metadata": {},
   "source": [
    "# Training Loop\n",
    "Now you have to train your model. \n",
    "\n",
    "Note, your architecture must be based on RNNs. This means that you have to set a hidden state called `h` and use it to create a loop for your model like RNNs."
   ]
  },
  {
   "cell_type": "code",
   "execution_count": 24,
   "metadata": {},
   "outputs": [
    {
     "name": "stdout",
     "output_type": "stream",
     "text": [
      "Epoch 1, Loss: 929.6912549997407\n",
      "Epoch 2, Loss: 70.12488075126288\n",
      "Epoch 3, Loss: 49.73847825627583\n",
      "Epoch 4, Loss: 38.71680814639244\n",
      "Epoch 5, Loss: 12.30737894583434\n",
      "Epoch 6, Loss: 4.199546368913758\n",
      "Epoch 7, Loss: 0.4655703766603276\n",
      "Epoch 8, Loss: 0.06747020009204557\n",
      "Epoch 9, Loss: 0.0703279288034237\n",
      "Epoch 10, Loss: 0.06706174495638836\n"
     ]
    }
   ],
   "source": [
    "# create your dataset, using the CustomeDataset function\n",
    "CustomDateset = CustomeDateset()\n",
    "\n",
    "# Initialize model, loss function (use MSE Loss function), and optimizer (use adam optimizer)\n",
    "model = Model()\n",
    "criterion = nn.MSELoss()\n",
    "optimizer = optim.Adam(model.parameters(), lr=0.001)\n",
    "\n",
    "# TODO\n",
    "# Training loop\n",
    "epochs = 10\n",
    "\n",
    "for epoch in range(epochs):\n",
    "    model.train()\n",
    "    total_loss = 0\n",
    "\n",
    "    for length, x, y in dataset:\n",
    "        optimizer.zero_grad()\n",
    "        h = torch.zeros(1)\n",
    "        # set x = sequences\n",
    "        x = torch.tensor(x, dtype=torch.float32)\n",
    "        # set y = next numbers\n",
    "        y = torch.tensor(y, dtype=torch.float32)\n",
    "        # initialize your output\n",
    "        output = None\n",
    "        \n",
    "        # create a loop: use hidden state\n",
    "        for i in range(length):\n",
    "            model_input = torch.cat([h, x[i].unsqueeze(0)])\n",
    "            output = model(model_input)\n",
    "            h = output[0].unsqueeze(0)\n",
    "            \n",
    "        # get loss\n",
    "        loss = criterion(output[1], y)\n",
    "        # backward pass\n",
    "        loss.backward()\n",
    "        # optimizer step\n",
    "        optimizer.step()\n",
    "        # compute total loss\n",
    "        total_loss += loss.item() \n",
    "\n",
    "    # print total loss after each epoch\n",
    "    print(f'Epoch {epoch+1}, Loss: {total_loss/len(dataset)}')"
   ]
  },
  {
   "cell_type": "markdown",
   "metadata": {},
   "source": [
    "# Weights Evaluation\n",
    "Print the weights of the model.\n",
    "\n",
    "You can see, model's weight are exactly same as what you have found in theoretical way."
   ]
  },
  {
   "cell_type": "code",
   "execution_count": 27,
   "metadata": {},
   "outputs": [
    {
     "data": {
      "text/plain": [
       "OrderedDict([('fc1.weight',\n",
       "              tensor([[ 4.4537e-05, -8.6494e-01],\n",
       "                      [ 1.1557e+00,  1.9997e+00]]))])"
      ]
     },
     "execution_count": 27,
     "metadata": {},
     "output_type": "execute_result"
    }
   ],
   "source": [
    "# TODO\n",
    "model.state_dict()"
   ]
  },
  {
   "cell_type": "markdown",
   "metadata": {},
   "source": [
    "# Write your opinion\n",
    "How this model use hidden state? Why hidden state is helpful? \n",
    "\n",
    "`your answer`"
   ]
  },
  {
   "cell_type": "markdown",
   "metadata": {},
   "source": [
    "# Analysis of long-term dependencies (40 points)\n",
    "Step 2. Now, we are going to do some analysis. In the previous, both the dataset and model were simple. Now, we want to make it a little complex. \n",
    "\n",
    "+ Assume the lengths for all sequences are equal.\n",
    "+ Consider each sequence has `n` number of `d`:\n",
    "    - e.g, $a_0, a_0 + d_0, a_1 + d_1, a_2 + d_2, ...., a_{n-1} + d_{n-1}, a_{n} + d_0, a_{n+1} + d_1, ...$\n",
    "+ Change your model: just increase the number of neurons to 8. Also, because your input's dimension has changed, you have to increase the hidden state `h` dimension.\n",
    "+ Create a loop over all possible $2 \\leq n \\leq 10$ and generate a dataset for each one. Then train a new model for each dataset.\n",
    "+ At the end, show a `TotalLoss - numberOfd` plot."
   ]
  },
  {
   "cell_type": "code",
   "execution_count": null,
   "metadata": {},
   "outputs": [],
   "source": [
    "# new model\n",
    "# TODO\n",
    "class Model(nn.Module):\n",
    "    \"\"\"\n",
    "        Design your model.\n",
    "    \"\"\"\n",
    "    def __init__(self):\n",
    "        super().__init__()\n",
    "        self.fc1 = nn.Linear(4, 4, bias=False)\n",
    "\n",
    "    def forward(self, x):\n",
    "        x = self.fc1(x)\n",
    "        return x"
   ]
  },
  {
   "cell_type": "code",
   "execution_count": null,
   "metadata": {},
   "outputs": [],
   "source": [
    "# TODO\n",
    "def CustomDateset(n, length = 20, size = 10000):\n",
    "    \"\"\"\n",
    "        Generate your dataset with following details:\n",
    "        -100 <= a_i <= 100\n",
    "        -20 <= d <= 20\n",
    "        \n",
    "        Parameters:\n",
    "            - n: number of d in sequences\n",
    "            - length = 20 (length of all sequences)\n",
    "            - size = 10000\n",
    "\n",
    "        Returns:\n",
    "            - dataset = [(length, sequence, next_number in the sequence) for each sequence]\n",
    "    \"\"\"\n",
    "    dataset = []\n",
    "    for _ in range(size):\n",
    "        a0 = (np.random.rand() - 0.5) * 200\n",
    "        d = [(np.random.rand() - 0.5) * 40 for _ in range(n)]\n",
    "        sequence = np.zeros(length)\n",
    "        sequence[0] = a0\n",
    "        j = 0\n",
    "        for i in range(1, length):\n",
    "            sequence[i] = sequence[i-1] + d[j % n]\n",
    "            j += 1\n",
    "\n",
    "        next_number = sequence[length-1] + d[j % n]\n",
    "        dataset.append((length, sequence, next_number))\n",
    "\n",
    "    return dataset"
   ]
  },
  {
   "cell_type": "code",
   "execution_count": 58,
   "metadata": {},
   "outputs": [
    {
     "name": "stdout",
     "output_type": "stream",
     "text": [
      "558.5305321096907\n",
      "5.349955249368436\n",
      "1.3506590926450954\n",
      "0.6965439455625275\n",
      "0.6639816734245758\n",
      "0.4329202084140118\n",
      "0.5926944617877782\n",
      "0.5007062480522309\n",
      "0.39795856616514785\n",
      "0.44036191899561355\n",
      "0.44036191899561355\n",
      "1066.2261156673949\n",
      "19.41554730490807\n",
      "8.182294676126823\n",
      "6.18769641626529\n",
      "4.326794645122564\n",
      "3.239498324048536\n",
      "2.3155119448422243\n",
      "1.1923976119569284\n",
      "1.0164809430938606\n",
      "0.6052892313738772\n",
      "0.6052892313738772\n",
      "462.9152921058273\n",
      "18.364823234282046\n",
      "15.65532530393657\n",
      "15.245374154109223\n",
      "14.91887298630279\n",
      "14.633169872876012\n",
      "14.32035990203153\n",
      "13.901519811566759\n",
      "13.301676840459578\n",
      "12.472147717696984\n",
      "12.472147717696984\n",
      "377.65390178384325\n",
      "47.00250992702839\n",
      "28.793254546155925\n",
      "28.742173226894362\n",
      "28.581330261303286\n",
      "27.990486405753327\n",
      "26.30379078512925\n",
      "22.988017024018564\n",
      "19.2577362386577\n",
      "16.56427867439143\n",
      "16.56427867439143\n",
      "432.9824906124587\n",
      "44.55033261917153\n",
      "34.50648052304584\n",
      "25.31210212565438\n",
      "23.212652870762373\n",
      "22.441775153395533\n",
      "22.064991663646342\n",
      "21.882859312697484\n",
      "21.78646245820427\n",
      "21.727882282264908\n",
      "21.727882282264908\n",
      "150.28415280115283\n",
      "79.92255751818713\n",
      "51.41648640988577\n",
      "43.55366086728787\n",
      "38.884276267782866\n",
      "35.26661618813167\n",
      "32.46482285033339\n",
      "30.41657848776818\n",
      "28.99106818420187\n",
      "28.00875519721851\n",
      "28.00875519721851\n",
      "405.4208717313675\n",
      "131.02408525268427\n",
      "110.99832399756124\n",
      "71.48203925377392\n",
      "71.04392211242575\n",
      "70.99593713007272\n",
      "70.96706323479026\n",
      "70.93886271806711\n",
      "70.91102348876603\n",
      "70.88395848388376\n",
      "70.88395848388376\n",
      "339.879857611366\n",
      "124.70092199734478\n",
      "123.10195587953034\n",
      "122.76033508201431\n",
      "122.58714792596514\n",
      "122.3824991205121\n",
      "98.11309744988033\n",
      "67.89929992647882\n",
      "63.49939332181747\n",
      "61.89689858254096\n",
      "61.89689858254096\n"
     ]
    }
   ],
   "source": [
    "# TODO\n",
    "losses = []\n",
    "epochs = 10\n",
    "for n in range(2, 10):\n",
    "    total_loss = 0\n",
    "    # create your dataset, using the CustomeDataset function\n",
    "\n",
    "    dataset = CustomDateset(n=n)\n",
    "\n",
    "    # Initialize model, loss function (user MSE Loss function), and optimizer (use adam optimizer)\n",
    "\n",
    "    model = Model()\n",
    "    criterion = nn.MSELoss()\n",
    "    optimizer = optim.Adam(model.parameters(), lr=0.001)\n",
    "    scheduler = optim.lr_scheduler.ReduceLROnPlateau(optimizer, 'min', patience=3, factor=0.5)\n",
    "\n",
    "    loss = 0\n",
    "    # Training loop\n",
    "    for epoch in range(epochs):\n",
    "        model.train()\n",
    "        total_loss = 0\n",
    "\n",
    "        for length, x, y in dataset:\n",
    "            optimizer.zero_grad()\n",
    "            h = torch.zeros(3)\n",
    "\n",
    "            # set x = sequences\n",
    "            x = torch.tensor(x, dtype=torch.float32)\n",
    "            # set y = next numbers\n",
    "            y = torch.tensor(y, dtype=torch.float32)\n",
    "            # initialize your output\n",
    "            output = None\n",
    "            \n",
    "            # create a loop: use hidden state\n",
    "            for i in range(length):\n",
    "                model_input = torch.cat([h, x[i].unsqueeze(0)])\n",
    "                output = model(model_input)\n",
    "                h = output[0:3]\n",
    "                \n",
    "            # get loss\n",
    "            loss = criterion(output[3], y)\n",
    "            # backward pass\n",
    "            loss.backward()\n",
    "            # optimizer step\n",
    "            optimizer.step()\n",
    "            # compute total loss\n",
    "            total_loss += loss.item() \n",
    "\n",
    "        loss = total_loss / len(dataset)\n",
    "        scheduler.step(loss)\n",
    "\n",
    "    losses.append(loss)\n"
   ]
  },
  {
   "cell_type": "code",
   "execution_count": 59,
   "metadata": {},
   "outputs": [
    {
     "data": {
      "image/png": "[encoded data removed]",
      "text/plain": [
       "<Figure size 640x480 with 1 Axes>"
      ]
     },
     "metadata": {},
     "output_type": "display_data"
    }
   ],
   "source": [
    "# plot your amount of loss and number of d in datasets\n",
    "# TODO\n",
    "plt.plot([n for n in range(2, 10)], losses, marker='o')\n",
    "plt.title(\"loss - num of d\")\n",
    "plt.xlabel('num of d')\n",
    "plt.ylabel('loss')\n",
    "plt.show()"
   ]
  },
  {
   "cell_type": "markdown",
   "metadata": {},
   "source": [
    "# Write your opinion\n",
    "\n",
    "+ You can see, as the number of d in the sequences increases the amount of the total loss increases too. Why?\n",
    "    - `your answer`\n",
    "\n",
    "+ Can you mathematically explain your opinion? (help: There are some gradient issues!)\n",
    "    - `your answer`\n",
    "\n",
    "+ Can you explain the problem of Long-term dependencies in RNNs?\n",
    "    - `your answer`"
   ]
  },
  {
   "cell_type": "markdown",
   "metadata": {},
   "source": [
    "# Gated Recurrent Units (GRUs) (30 points)\n",
    "\n",
    "Step3. In the previous section, you saw, simple recurrent models cannot remember information from the past. This is a big problem because in real-world applications sequences have a lot of dependencies on their past time steps and we have to find a way to remember the information from the past. To address this problem, researchers have designed other architecture that can selectively remember or forget information over time. Like: `Long-Short Term Memory (LSTM)` and `Gated Recurrent Unit (GRU)`. The key building block behind these architectures is `gate`.\n",
    "\n",
    "#### GATE:\n",
    "These networks, use gates to track information throughout many time steps:\n",
    "+ Add information, when the information is needed.\n",
    "+ Remover information, When information is not important\n",
    "\n",
    "<img src=\"GATE.jpg\" width=\"400\" height=\"200\">\n",
    "\n",
    "#### Long-Short Term Memory:\n",
    "LSTM is an improved version of RNNs. In a classical recurrent model, there is a single hidden state `h` which is used to help the model to remember some information over time. But this is not enough to learn long-term dependencies. Using gates, LSTM is capable of addressing the problem of long-term dependencies. \n",
    "\n",
    "LSTM cell:\n",
    "\n",
    "<img src=\"LSTM.jpg\" width=\"400\" height=\"200\">\n",
    "\n",
    "GATES:\n",
    "+ <font color=green size=3> Forget gate:</font> To forget irrelevant information.\n",
    "+ <font color=red size=3> Store gate:</font> Decide what part of new is relevant.\n",
    "+ <font color=orange size=3> Update:</font> update cell state values.\n",
    "+ <font color=blue size=3> Output gate:</font> Controls what information is sent to the next time step.\n",
    " \n",
    "This architecture addresses the gradient issues you have described in the previous section. (How?)\n",
    "\n",
    "`write your answer`"
   ]
  },
  {
   "cell_type": "markdown",
   "metadata": {},
   "source": [
    "#### Gated Recurrent Unit (GRU):\n",
    "Like LSTM, GRU is designed to model sequential data by allowing information to be selectively remembered or forgotten over time.\n",
    "\n",
    "GRU cell:\n",
    "\n",
    "<img src=\"GRU.jpg\" width=\"400\" height=\"200\">"
   ]
  },
  {
   "cell_type": "markdown",
   "metadata": {},
   "source": [
    "GATES and other parts:\n",
    "+ <font color=green size=3> Reset gate:</font> How much of previous hidden state to forget.\n",
    "    - $r_t = \\sigma(W_r \\cdot [h_{t-1}, x_t])$\n",
    "+ <font color=orange size=3> Update gate:</font> How much of the candidate activation vector to incorporate into the new hidden state.\n",
    "    - $z_t = \\sigma(W_z \\cdot [h_{t-1}, x_t])$\n",
    "    \n",
    "+ <font color=red size=3> Candidate Activation vector:</font> Computed using the current input x and modified version of the previous hidden state that is `reset` by the reset gate.\n",
    "    - $\\tilde{h}_t = \\tanh(W_h \\cdot [r_t \\odot h_{t-1}, x_t])$\n",
    "\n",
    "+ <font color=blue size=3> Hidden state</font>\n",
    "    - $h_t = (1 - z_t) \\odot h_{t-1} + z_t \\odot \\tilde{h}_t$\n",
    "\n",
    "Note: the $W_r$, $W_z$, $W_h$ are the weights associated with the GRU cell."
   ]
  },
  {
   "cell_type": "markdown",
   "metadata": {},
   "source": [
    "# GRU Implementation\n",
    "Now, implement a Gated Recurrent Unit from scratch."
   ]
  },
  {
   "cell_type": "code",
   "execution_count": null,
   "metadata": {},
   "outputs": [],
   "source": [
    "class GRU_cell(nn.Module):\n",
    "    def __init__(self, input_dim, hidden_dim, num_calsses):\n",
    "        super().__init__()\n",
    "        self.input_dim = input_dim\n",
    "        self.hidden_dim = hidden_dim\n",
    "        self.num_classes = num_calsses\n",
    "\n",
    "        self.reste_gate = nn.Linear(self.input_dim + self.hidden_dim, self.hidden_dim)\n",
    "        self.update_gate = nn.Linear(self.input_dim + self.hidden_dim, self.hidden_dim)\n",
    "        self.candidate = nn.Linear(self.input_dim + self.hidden_dim, self.hidden_dim)\n",
    "        \n",
    "        self.output = nn.Linear(self.hidden_dim, self.num_classes)\n",
    "        \n",
    "        # TODO\n",
    "        self.sigmoid = nn.Sigmoid()\n",
    "        self.tanh = nn.Tanh()\n",
    "        \n",
    "    def forward(self, x, h, end = False):\n",
    "        # TODO\n",
    "        if not end:\n",
    "            # reset gate\n",
    "            vec = torch.cat([x, h], dim = 1)\n",
    "            r = self.sigmoid(self.reste_gate(vec))\n",
    "            \n",
    "            # update gate\n",
    "            z = self.sigmoid(self.update_gate(vec))\n",
    "\n",
    "            # candidate\n",
    "            vec1 = torch.cat([x, torch.mul(r, h)], dim = 1)\n",
    "            h_tilde = self.tanh(self.candidate(vec1)) \n",
    "\n",
    "            # hidden state\n",
    "            h = torch.mul(z, h) + torch.mul((1 - z), h_tilde)\n",
    "            return h\n",
    "        \n",
    "        else:\n",
    "            return self.output(h)"
   ]
  },
  {
   "cell_type": "markdown",
   "metadata": {},
   "source": [
    "# MNIST \n",
    "MNIST database is a collection of handwritten digits. You are going to use this database to train and test your GRU cell.\n",
    "\n",
    "First, to download this database run the cell below."
   ]
  },
  {
   "cell_type": "code",
   "execution_count": null,
   "metadata": {},
   "outputs": [],
   "source": [
    "database = MNIST(root = 'data/', download = True)\n",
    "# TODO\n",
    "train_data = MNIST(root = 'data/', train = True, transform = transforms.ToTensor())\n",
    "test_data = MNIST(root = 'data/', train = False, transform = transforms.ToTensor())"
   ]
  },
  {
   "cell_type": "markdown",
   "metadata": {},
   "source": [
    "Show the image and label of one instance from the train data."
   ]
  },
  {
   "cell_type": "code",
   "execution_count": 179,
   "metadata": {},
   "outputs": [
    {
     "name": "stdout",
     "output_type": "stream",
     "text": [
      "4\n"
     ]
    },
    {
     "data": {
      "image/png": "[encoded data removed]",
      "text/plain": [
       "<Figure size 640x480 with 1 Axes>"
      ]
     },
     "metadata": {},
     "output_type": "display_data"
    }
   ],
   "source": [
    "# TODO\n",
    "image, label = database[26]\n",
    "plt.imshow(image, cmap = 'gray')\n",
    "print(label)"
   ]
  },
  {
   "cell_type": "code",
   "execution_count": 136,
   "metadata": {},
   "outputs": [
    {
     "name": "stdout",
     "output_type": "stream",
     "text": [
      "(tensor([[[0.0000, 0.0000, 0.0000, 0.0000, 0.0000, 0.0000, 0.0000, 0.0000,\n",
      "          0.0000, 0.0000, 0.0000, 0.0000, 0.0000, 0.0000, 0.0000, 0.0000,\n",
      "          0.0000, 0.0000, 0.0000, 0.0000, 0.0000, 0.0000, 0.0000, 0.0000,\n",
      "          0.0000, 0.0000, 0.0000, 0.0000],\n",
      "         [0.0000, 0.0000, 0.0000, 0.0000, 0.0000, 0.0000, 0.0000, 0.0000,\n",
      "          0.0000, 0.0000, 0.0000, 0.0000, 0.0000, 0.0000, 0.0000, 0.0000,\n",
      "          0.0000, 0.0000, 0.0000, 0.0000, 0.0000, 0.0000, 0.0000, 0.0000,\n",
      "          0.0000, 0.0000, 0.0000, 0.0000],\n",
      "         [0.0000, 0.0000, 0.0000, 0.0000, 0.0000, 0.0000, 0.0000, 0.0000,\n",
      "          0.0000, 0.0000, 0.0000, 0.0000, 0.0000, 0.0000, 0.0000, 0.0000,\n",
      "          0.0000, 0.0000, 0.0000, 0.0000, 0.0000, 0.0000, 0.0000, 0.0000,\n",
      "          0.0000, 0.0000, 0.0000, 0.0000],\n",
      "         [0.0000, 0.0000, 0.0000, 0.0000, 0.0000, 0.0000, 0.0000, 0.0000,\n",
      "          0.0000, 0.0000, 0.0000, 0.0000, 0.0000, 0.2510, 0.7490, 0.2745,\n",
      "          0.0000, 0.0000, 0.0000, 0.0000, 0.0000, 0.0000, 0.0000, 0.0000,\n",
      "          0.0000, 0.0000, 0.0000, 0.0000],\n",
      "         [0.0000, 0.0000, 0.0000, 0.0000, 0.0000, 0.0000, 0.0000, 0.0000,\n",
      "          0.0000, 0.0000, 0.0000, 0.0000, 0.2667, 0.9529, 0.9922, 0.9765,\n",
      "          0.2471, 0.0000, 0.0000, 0.0000, 0.0000, 0.0000, 0.0000, 0.0000,\n",
      "          0.0000, 0.0000, 0.0000, 0.0000],\n",
      "         [0.0000, 0.0000, 0.0000, 0.0000, 0.0000, 0.0000, 0.0000, 0.0000,\n",
      "          0.0000, 0.0000, 0.0000, 0.1176, 0.8745, 0.9922, 0.9922, 0.9686,\n",
      "          0.1608, 0.0000, 0.0000, 0.0000, 0.0000, 0.0000, 0.0000, 0.0000,\n",
      "          0.0000, 0.0000, 0.0000, 0.0000],\n",
      "         [0.0000, 0.0000, 0.0000, 0.0000, 0.0000, 0.0000, 0.0000, 0.0000,\n",
      "          0.0000, 0.0000, 0.2863, 0.9333, 0.9922, 0.9922, 0.9922, 0.9490,\n",
      "          0.0000, 0.0000, 0.0000, 0.0000, 0.0000, 0.0000, 0.0000, 0.0000,\n",
      "          0.0000, 0.0000, 0.0000, 0.0000],\n",
      "         [0.0000, 0.0000, 0.0000, 0.0000, 0.0000, 0.0000, 0.0000, 0.0000,\n",
      "          0.0000, 0.2863, 0.9255, 0.9922, 0.9922, 0.9922, 0.9922, 0.9490,\n",
      "          0.0000, 0.0000, 0.0000, 0.0000, 0.0000, 0.0000, 0.0000, 0.0000,\n",
      "          0.0000, 0.0000, 0.0000, 0.0000],\n",
      "         [0.0000, 0.0000, 0.0000, 0.0000, 0.0000, 0.0000, 0.0000, 0.0000,\n",
      "          0.0000, 0.7137, 0.9922, 0.9922, 0.7490, 0.9686, 0.9922, 0.5843,\n",
      "          0.0000, 0.0000, 0.0000, 0.0000, 0.0000, 0.0000, 0.0000, 0.0000,\n",
      "          0.0000, 0.0000, 0.0000, 0.0000],\n",
      "         [0.0000, 0.0000, 0.0000, 0.0000, 0.0000, 0.0000, 0.0000, 0.0000,\n",
      "          0.0000, 0.5529, 0.9922, 0.5608, 0.3373, 0.9765, 0.9922, 0.4784,\n",
      "          0.0000, 0.0000, 0.0000, 0.0000, 0.0000, 0.0000, 0.0000, 0.0000,\n",
      "          0.0000, 0.0000, 0.0000, 0.0000],\n",
      "         [0.0000, 0.0000, 0.0000, 0.0000, 0.0000, 0.0000, 0.0000, 0.0000,\n",
      "          0.0000, 0.0353, 0.1412, 0.0275, 0.0549, 0.9137, 0.9922, 0.4784,\n",
      "          0.0000, 0.0000, 0.0000, 0.0000, 0.0000, 0.0000, 0.0000, 0.0000,\n",
      "          0.0000, 0.0000, 0.0000, 0.0000],\n",
      "         [0.0000, 0.0000, 0.0000, 0.0000, 0.0000, 0.0000, 0.0000, 0.0000,\n",
      "          0.0000, 0.0000, 0.0000, 0.0000, 0.0000, 0.9020, 0.9922, 0.4784,\n",
      "          0.0000, 0.0000, 0.0000, 0.0000, 0.0000, 0.0000, 0.0000, 0.0000,\n",
      "          0.0000, 0.0000, 0.0000, 0.0000],\n",
      "         [0.0000, 0.0000, 0.0000, 0.0000, 0.0000, 0.0000, 0.0000, 0.0000,\n",
      "          0.0000, 0.0000, 0.0000, 0.0000, 0.0000, 0.9020, 0.9922, 0.4784,\n",
      "          0.0000, 0.0000, 0.0000, 0.0000, 0.0000, 0.0000, 0.0000, 0.0000,\n",
      "          0.0000, 0.0000, 0.0000, 0.0000],\n",
      "         [0.0000, 0.0000, 0.0000, 0.0000, 0.0000, 0.0000, 0.0000, 0.0000,\n",
      "          0.0000, 0.0000, 0.0000, 0.0000, 0.0000, 0.9059, 1.0000, 0.4824,\n",
      "          0.0000, 0.0000, 0.0000, 0.0000, 0.0000, 0.0000, 0.0000, 0.0000,\n",
      "          0.0000, 0.0000, 0.0000, 0.0000],\n",
      "         [0.0000, 0.0000, 0.0000, 0.0000, 0.0000, 0.0000, 0.0000, 0.0000,\n",
      "          0.0000, 0.0000, 0.0000, 0.0000, 0.0000, 0.9020, 0.9922, 0.2039,\n",
      "          0.0000, 0.0000, 0.0000, 0.0000, 0.0000, 0.0000, 0.0000, 0.0000,\n",
      "          0.0000, 0.0000, 0.0000, 0.0000],\n",
      "         [0.0000, 0.0000, 0.0000, 0.0000, 0.0000, 0.0000, 0.0000, 0.0000,\n",
      "          0.0000, 0.0000, 0.0000, 0.0000, 0.2392, 0.9608, 0.9922, 0.0000,\n",
      "          0.0000, 0.0000, 0.0000, 0.0000, 0.0000, 0.0000, 0.0000, 0.0000,\n",
      "          0.0000, 0.0000, 0.0000, 0.0000],\n",
      "         [0.0000, 0.0000, 0.0000, 0.0000, 0.0000, 0.0000, 0.0000, 0.0000,\n",
      "          0.0000, 0.0000, 0.0000, 0.0000, 0.3843, 0.9922, 0.9922, 0.0000,\n",
      "          0.0000, 0.0000, 0.0000, 0.1373, 0.0471, 0.0000, 0.0000, 0.0000,\n",
      "          0.0000, 0.0000, 0.0000, 0.0000],\n",
      "         [0.0000, 0.0000, 0.0000, 0.0000, 0.0000, 0.0000, 0.0000, 0.0000,\n",
      "          0.0000, 0.0000, 0.0000, 0.0000, 0.3843, 0.9922, 0.9922, 0.0000,\n",
      "          0.0000, 0.0353, 0.5569, 0.9137, 0.5725, 0.0000, 0.0000, 0.0000,\n",
      "          0.0000, 0.0000, 0.0000, 0.0000],\n",
      "         [0.0000, 0.0000, 0.0000, 0.0000, 0.0000, 0.0000, 0.0000, 0.0000,\n",
      "          0.0000, 0.0000, 0.0000, 0.0000, 0.7451, 0.9922, 0.9922, 0.5020,\n",
      "          0.0275, 0.3882, 0.9922, 0.9922, 0.7059, 0.0000, 0.0000, 0.0000,\n",
      "          0.0000, 0.0000, 0.0000, 0.0000],\n",
      "         [0.0000, 0.0000, 0.0000, 0.0000, 0.0000, 0.0000, 0.0000, 0.0000,\n",
      "          0.0000, 0.0000, 0.0000, 0.1137, 0.9020, 0.9922, 0.9922, 0.9882,\n",
      "          0.8235, 0.9922, 0.9922, 0.9922, 0.5490, 0.0000, 0.0000, 0.0000,\n",
      "          0.0000, 0.0000, 0.0000, 0.0000],\n",
      "         [0.0000, 0.0000, 0.0000, 0.0000, 0.0000, 0.0000, 0.0000, 0.0000,\n",
      "          0.0000, 0.0000, 0.1098, 0.8118, 0.9922, 0.9922, 0.9922, 0.9961,\n",
      "          0.9922, 0.9922, 0.9216, 0.2745, 0.0353, 0.0000, 0.0000, 0.0000,\n",
      "          0.0000, 0.0000, 0.0000, 0.0000],\n",
      "         [0.0000, 0.0000, 0.0000, 0.0000, 0.0000, 0.0000, 0.0000, 0.0000,\n",
      "          0.0000, 0.0000, 0.4941, 0.9922, 0.9922, 0.9922, 0.9922, 0.9961,\n",
      "          0.9922, 0.6588, 0.0745, 0.0000, 0.0000, 0.0000, 0.0000, 0.0000,\n",
      "          0.0000, 0.0000, 0.0000, 0.0000],\n",
      "         [0.0000, 0.0000, 0.0000, 0.0000, 0.0000, 0.0000, 0.0000, 0.0000,\n",
      "          0.0000, 0.0000, 0.3098, 0.9922, 0.9922, 0.7882, 0.7451, 0.5176,\n",
      "          0.2471, 0.0196, 0.0000, 0.0000, 0.0000, 0.0000, 0.0000, 0.0000,\n",
      "          0.0000, 0.0000, 0.0000, 0.0000],\n",
      "         [0.0000, 0.0000, 0.0000, 0.0000, 0.0000, 0.0000, 0.0000, 0.0000,\n",
      "          0.0000, 0.0000, 0.0000, 0.0000, 0.0000, 0.0000, 0.0000, 0.0000,\n",
      "          0.0000, 0.0000, 0.0000, 0.0000, 0.0000, 0.0000, 0.0000, 0.0000,\n",
      "          0.0000, 0.0000, 0.0000, 0.0000],\n",
      "         [0.0000, 0.0000, 0.0000, 0.0000, 0.0000, 0.0000, 0.0000, 0.0000,\n",
      "          0.0000, 0.0000, 0.0000, 0.0000, 0.0000, 0.0000, 0.0000, 0.0000,\n",
      "          0.0000, 0.0000, 0.0000, 0.0000, 0.0000, 0.0000, 0.0000, 0.0000,\n",
      "          0.0000, 0.0000, 0.0000, 0.0000],\n",
      "         [0.0000, 0.0000, 0.0000, 0.0000, 0.0000, 0.0000, 0.0000, 0.0000,\n",
      "          0.0000, 0.0000, 0.0000, 0.0000, 0.0000, 0.0000, 0.0000, 0.0000,\n",
      "          0.0000, 0.0000, 0.0000, 0.0000, 0.0000, 0.0000, 0.0000, 0.0000,\n",
      "          0.0000, 0.0000, 0.0000, 0.0000],\n",
      "         [0.0000, 0.0000, 0.0000, 0.0000, 0.0000, 0.0000, 0.0000, 0.0000,\n",
      "          0.0000, 0.0000, 0.0000, 0.0000, 0.0000, 0.0000, 0.0000, 0.0000,\n",
      "          0.0000, 0.0000, 0.0000, 0.0000, 0.0000, 0.0000, 0.0000, 0.0000,\n",
      "          0.0000, 0.0000, 0.0000, 0.0000],\n",
      "         [0.0000, 0.0000, 0.0000, 0.0000, 0.0000, 0.0000, 0.0000, 0.0000,\n",
      "          0.0000, 0.0000, 0.0000, 0.0000, 0.0000, 0.0000, 0.0000, 0.0000,\n",
      "          0.0000, 0.0000, 0.0000, 0.0000, 0.0000, 0.0000, 0.0000, 0.0000,\n",
      "          0.0000, 0.0000, 0.0000, 0.0000]]]), 1)\n",
      "torch.Size([1, 28, 28])\n"
     ]
    }
   ],
   "source": [
    "# TODO\n",
    "print(train_data[70])\n",
    "print(train_data[70][0].shape)"
   ]
  },
  {
   "cell_type": "markdown",
   "metadata": {},
   "source": [
    "### Write a generate custom dataset function\n",
    "+ For each data in the database convert, use one-hot encoding from pytorch to encode your label to a vector. This is necessary for computing the amount of loss.\n",
    "+ It is common to use batches of data to train our model simultaneously on a batch. The length of a batch at most is `BATCH_SIZE`.\n",
    "    - Note: you can also train your model on each data (one by one) but the training part will take too much time. \n",
    "+ Return batches of data."
   ]
  },
  {
   "cell_type": "code",
   "execution_count": 150,
   "metadata": {},
   "outputs": [],
   "source": [
    "HIDDEN_DIM = 15\n",
    "INPUT_DIM = 28\n",
    "NUM_CLASSES = 10\n",
    "BATCH_SIZE = 128\n",
    "EPOCHS = 30"
   ]
  },
  {
   "cell_type": "code",
   "execution_count": null,
   "metadata": {},
   "outputs": [],
   "source": [
    "def CustomeDataset(data, batch_size = BATCH_SIZE):\n",
    "    \"\"\" \n",
    "        Generate batches of data. Use one-hot encoding to encode your labels according to number of classes.\n",
    "        \n",
    "        Parameters:\n",
    "            - data: MNIST database\n",
    "            - batch_size = BATCH_SIZE\n",
    "\n",
    "        Returns:\n",
    "            - batches = A list of [(image_tensor, encoded label)]. Each batch's length is at most BATCH_SIZE\n",
    "    \"\"\"\n",
    "    batches = []\n",
    "    \n",
    "    # TODO\n",
    "    x = None\n",
    "    y = None\n",
    "    for image_tensor, label in data:\n",
    "        encoded_label = F.one_hot(torch.tensor(label), num_classes = NUM_CLASSES)\n",
    "        encoded_label = torch.tensor(encoded_label, dtype=torch.float32).unsqueeze(dim = 0)\n",
    "        if x is None:\n",
    "            x = image_tensor\n",
    "            y = encoded_label\n",
    "        elif len(x) < batch_size:\n",
    "            x = torch.concat((x, image_tensor), dim = 0)\n",
    "            y = torch.concat((y, encoded_label), dim = 0)\n",
    "        else:\n",
    "            batches.append((x, y))\n",
    "            x = None\n",
    "            y = None\n",
    "    batches.append((x, y))\n",
    "    return batches"
   ]
  },
  {
   "cell_type": "markdown",
   "metadata": {},
   "source": [
    "### Training loop\n",
    "write your training loop.\n",
    "+ For loss function: use `CrossEntropyLoss` function\n",
    "+ Use adam optimizer\n",
    "+ To optimize your training process, you can use `optim.lr_schduler`. (Why this will improve the training process?)\n",
    "    - `your answer`\n",
    "+ Note: Also, in each time step give one row of image tensor to the model because your model is sequential (you also can use each column)."
   ]
  },
  {
   "cell_type": "code",
   "execution_count": 152,
   "metadata": {},
   "outputs": [
    {
     "name": "stderr",
     "output_type": "stream",
     "text": [
      "/var/folders/09/231t9s654db24dw3fmq2bn4w0000gn/T/ipykernel_1458/1925120214.py:7: UserWarning: To copy construct from a tensor, it is recommended to use sourceTensor.clone().detach() or sourceTensor.clone().detach().requires_grad_(True), rather than torch.tensor(sourceTensor).\n",
      "  encoded_label = torch.tensor(encoded_label, dtype=torch.float32).unsqueeze(dim = 0)\n"
     ]
    },
    {
     "name": "stdout",
     "output_type": "stream",
     "text": [
      "Epoch 1, Loss: 1.696690767491836\n",
      "Epoch 2, Loss: 0.9307167171920318\n",
      "Epoch 3, Loss: 0.7645647101775771\n",
      "Epoch 4, Loss: 0.6570005429660813\n",
      "Epoch 5, Loss: 0.5690371615436456\n",
      "Epoch 6, Loss: 0.49447377317069424\n",
      "Epoch 7, Loss: 0.4300700551130741\n",
      "Epoch 8, Loss: 0.3748037531780071\n",
      "Epoch 9, Loss: 0.33478220478659537\n",
      "Epoch 10, Loss: 0.3048188648958063\n",
      "Epoch 11, Loss: 0.2804979829701231\n",
      "Epoch 12, Loss: 0.2600483837349604\n",
      "Epoch 13, Loss: 0.24269117399762372\n",
      "Epoch 14, Loss: 0.22800932041181515\n",
      "Epoch 15, Loss: 0.21541096133383814\n",
      "Epoch 16, Loss: 0.2040974917250002\n",
      "Epoch 17, Loss: 0.19430463522864513\n",
      "Epoch 18, Loss: 0.18527836562034397\n",
      "Epoch 19, Loss: 0.1773249728509221\n",
      "Epoch 20, Loss: 0.16986259106994314\n",
      "Epoch 21, Loss: 0.16304046559135546\n",
      "Epoch 22, Loss: 0.1566499202620126\n",
      "Epoch 23, Loss: 0.15074346987370704\n",
      "Epoch 24, Loss: 0.1454188975249717\n",
      "Epoch 25, Loss: 0.1405162517832744\n",
      "Epoch 26, Loss: 0.13606172271248737\n",
      "Epoch 27, Loss: 0.1320154333742967\n",
      "Epoch 28, Loss: 0.1283142595080251\n",
      "Epoch 29, Loss: 0.12484005186107218\n",
      "Epoch 30, Loss: 0.12161962302049918\n"
     ]
    }
   ],
   "source": [
    "# TODO\n",
    "# create batches\n",
    "batches = CustomeDataset(train_data)\n",
    "\n",
    "# Initialize model, loss function, and optimizer\n",
    "model = GRU_cell(INPUT_DIM, HIDDEN_DIM, NUM_CLASSES)\n",
    "criterion = nn.CrossEntropyLoss()\n",
    "optimizer = optim.Adam(model.parameters(), lr=0.001)\n",
    "\n",
    "# use scheduler to set learning rate\n",
    "scheduler = optim.lr_scheduler.ReduceLROnPlateau(optimizer, 'min', patience=3, factor=0.5)\n",
    "\n",
    "# training loop\n",
    "for epoch in range(EPOCHS):\n",
    "    model.train()\n",
    "    total_loss = 0\n",
    "\n",
    "    for x, y in batches:\n",
    "        optimizer.zero_grad()\n",
    "        h = torch.zeros(len(y), HIDDEN_DIM)\n",
    "        for i in range(INPUT_DIM):\n",
    "            h = model(x[:, i, :], h)\n",
    "            \n",
    "        pred = model(None, h, end = True)\n",
    "        loss = criterion(pred, y)\n",
    "        loss.backward()\n",
    "        optimizer.step()\n",
    "        total_loss += loss.item()\n",
    "\n",
    "    scheduler.step(total_loss/len(batches))\n",
    "    print(f'Epoch {epoch+1}, Loss: {total_loss/len(batches)}')"
   ]
  },
  {
   "cell_type": "markdown",
   "metadata": {},
   "source": [
    "### Test your model on Test data\n",
    "Use the test data to evaluate your model.\n",
    "+ Print the accuracy of your model (should be greater than $94\\%$).\n",
    "+ Show some predictions with actual value from the test data."
   ]
  },
  {
   "cell_type": "code",
   "execution_count": 163,
   "metadata": {},
   "outputs": [
    {
     "name": "stderr",
     "output_type": "stream",
     "text": [
      "/var/folders/09/231t9s654db24dw3fmq2bn4w0000gn/T/ipykernel_1458/1925120214.py:7: UserWarning: To copy construct from a tensor, it is recommended to use sourceTensor.clone().detach() or sourceTensor.clone().detach().requires_grad_(True), rather than torch.tensor(sourceTensor).\n",
      "  encoded_label = torch.tensor(encoded_label, dtype=torch.float32).unsqueeze(dim = 0)\n"
     ]
    },
    {
     "name": "stdout",
     "output_type": "stream",
     "text": [
      "tensor(9526)\n",
      "10000\n",
      "tensor(95.2600)\n"
     ]
    }
   ],
   "source": [
    "model.eval()\n",
    "with torch.no_grad():\n",
    "    # compute the accuracy of your model\n",
    "    # TODO\n",
    "    count = 0\n",
    "    dataset = CustomeDataset(test_data)\n",
    "\n",
    "    for x, y in dataset:\n",
    "        h = torch.zeros(len(y), HIDDEN_DIM)\n",
    "        \n",
    "        for i in range(INPUT_DIM):\n",
    "            h = model(x[:, i, :], h)\n",
    "\n",
    "        output = model(None, h, end = True)\n",
    "        pred = torch.argmax(output, dim = 1)\n",
    "        actual = torch.argmax(y, dim = 1)\n",
    "        count += torch.sum(pred == actual)\n",
    "        \n",
    "    print((count / len(test_data)) * 100)"
   ]
  },
  {
   "cell_type": "code",
   "execution_count": null,
   "metadata": {},
   "outputs": [],
   "source": [
    "# show images of 50 predictions with actual values "
   ]
  }
 ],
 "metadata": {
  "kernelspec": {
   "display_name": "Python 3",
   "language": "python",
   "name": "python3"
  },
  "language_info": {
   "codemirror_mode": {
    "name": "ipython",
    "version": 3
   },
   "file_extension": ".py",
   "mimetype": "text/x-python",
   "name": "python",
   "nbconvert_exporter": "python",
   "pygments_lexer": "ipython3",
   "version": "3.9.18"
  }
 },
 "nbformat": 4,
 "nbformat_minor": 2
}
